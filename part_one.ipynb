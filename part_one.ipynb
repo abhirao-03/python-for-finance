{
 "cells": [
  {
   "cell_type": "markdown",
   "metadata": {},
   "source": [
    "# Chapter 1/2 - Python and Finance Interesting Snippets\n",
    "Note: this part of the book is not meant to be followed. I decided to implement the code as an excercise/challenge!\n",
    "\n",
    "## Basic Options Pricing\n",
    "Implementing Black-Scholes-Merton for european options given by:\n",
    "\n",
    "$$\n",
    "S_T = S_0 \\exp\\left( \\left( r - \\frac{1}{2} \\sigma^2 \\right) T + \\sigma \\sqrt{T} z \\right)\n",
    "$$\n",
    "\n",
    "where $z\\sim N(0,1)$, $S_0$ is the initial stock price, $r$ is the risk-free rate, $\\sigma$ is the volatility, $T$ is the time to maturity, and $K$ is the strike price."
   ]
  },
  {
   "cell_type": "code",
   "execution_count": 12,
   "metadata": {},
   "outputs": [],
   "source": [
    "from jax import vmap, grad\n",
    "import jax.scipy as jsp\n",
    "import jax.random as random\n",
    "import jax.numpy as jnp\n",
    "import matplotlib.pyplot as plt"
   ]
  },
  {
   "cell_type": "code",
   "execution_count": 2,
   "metadata": {},
   "outputs": [],
   "source": [
    "class parameters:\n",
    "    def __init__(self, init_index=100.0, call_strike=105.0, maturity=1.0, short_rate=0.05, volatility=0.2, num_steps=10000):\n",
    "        self.init_index = init_index\n",
    "        self.call_strike = call_strike\n",
    "        self.maturity = maturity\n",
    "        self.short_rate = short_rate\n",
    "        self.volatility = volatility\n",
    "        self.num_steps = num_steps\n",
    "\n",
    "params = parameters()"
   ]
  },
  {
   "cell_type": "markdown",
   "metadata": {},
   "source": [
    "Generate a `params.num_steps` number of stock prices, each with a different random shock given by the Weiner process of picking `z` from a standard normal distribution."
   ]
  },
  {
   "cell_type": "code",
   "execution_count": 3,
   "metadata": {},
   "outputs": [],
   "source": [
    "key = random.PRNGKey(1)\n",
    "z = random.normal(key, (params.num_steps,))\n",
    "\n",
    "x = jnp.zeros(params.num_steps)\n",
    "x = x.at[0].set(params.init_index)\n",
    "\n",
    "for i in range(params.num_steps - 1):\n",
    "    x_i1 = params.init_index*jnp.exp((params.short_rate -((1/2)*(params.volatility**2)))*params.maturity + params.volatility*jnp.sqrt(params.maturity)*z[i])\n",
    "    x = x.at[i+1].set(x_i1)"
   ]
  },
  {
   "cell_type": "code",
   "execution_count": 4,
   "metadata": {},
   "outputs": [
    {
     "name": "stdout",
     "output_type": "stream",
     "text": [
      "Value of the European Call Option: 8.005196571350098\n"
     ]
    }
   ],
   "source": [
    "h = lambda x: jnp.maximum(0, x - params.call_strike)\n",
    "h = vmap(h)(x)\n",
    "\n",
    "C_price = jnp.exp(-params.short_rate*params.maturity)*jnp.mean(h)\n",
    "print(f\"Value of the European Call Option: {C_price}\")"
   ]
  },
  {
   "cell_type": "markdown",
   "metadata": {},
   "source": [
    "## Accessing Data from Web"
   ]
  },
  {
   "cell_type": "code",
   "execution_count": 5,
   "metadata": {},
   "outputs": [],
   "source": [
    "import pandas as pd\n",
    "from pandas_datareader import data\n",
    "from datetime import date\n",
    "import numpy as np"
   ]
  },
  {
   "cell_type": "code",
   "execution_count": 6,
   "metadata": {},
   "outputs": [],
   "source": [
    "startdate = pd.to_datetime('2018-07-15')\n",
    "enddate = pd.to_datetime(date.today())\n",
    "\n",
    "goog = data.DataReader(\"GOOG\", 'stooq', startdate, enddate)"
   ]
  },
  {
   "cell_type": "markdown",
   "metadata": {},
   "source": [
    "Implementing Volatility through log-relative and rolling standard deviation.\n",
    "\n",
    "$$\n",
    "\\begin{align*}\n",
    "    u_i &= \\ln\\left(\\frac{S_i}{S_{i-1}}\\right)\n",
    "    \\\\\n",
    "\n",
    "    \\\\\n",
    "    \\sigma &= \\sqrt{\\frac{1}{n-1}\\sum_{i=1}^{n} (u_i - \\bar{u})^2}\n",
    "\\end{align*}\n",
    "$$\n",
    "\n",
    "Note that this is anual volatility so we we multiply by the square root of the number of trading days in a year, i.e. $\\sqrt{252}$. We square root because it's a standard deviation and not variance."
   ]
  },
  {
   "cell_type": "code",
   "execution_count": 7,
   "metadata": {},
   "outputs": [],
   "source": [
    "goog['Log_Rel'] = np.log(goog['Close']/goog['Close'].shift(1))\n",
    "goog['Volatility'] = goog['Log_Rel'].rolling(window=252).std()*np.sqrt(252)"
   ]
  },
  {
   "cell_type": "code",
   "execution_count": 8,
   "metadata": {},
   "outputs": [
    {
     "data": {
      "text/html": [
       "<div>\n",
       "<style scoped>\n",
       "    .dataframe tbody tr th:only-of-type {\n",
       "        vertical-align: middle;\n",
       "    }\n",
       "\n",
       "    .dataframe tbody tr th {\n",
       "        vertical-align: top;\n",
       "    }\n",
       "\n",
       "    .dataframe thead th {\n",
       "        text-align: right;\n",
       "    }\n",
       "</style>\n",
       "<table border=\"1\" class=\"dataframe\">\n",
       "  <thead>\n",
       "    <tr style=\"text-align: right;\">\n",
       "      <th></th>\n",
       "      <th>Open</th>\n",
       "      <th>High</th>\n",
       "      <th>Low</th>\n",
       "      <th>Close</th>\n",
       "      <th>Volume</th>\n",
       "      <th>Log_Rel</th>\n",
       "      <th>Volatility</th>\n",
       "    </tr>\n",
       "    <tr>\n",
       "      <th>Date</th>\n",
       "      <th></th>\n",
       "      <th></th>\n",
       "      <th></th>\n",
       "      <th></th>\n",
       "      <th></th>\n",
       "      <th></th>\n",
       "      <th></th>\n",
       "    </tr>\n",
       "  </thead>\n",
       "  <tbody>\n",
       "    <tr>\n",
       "      <th>2024-10-03</th>\n",
       "      <td>165.8200</td>\n",
       "      <td>167.910</td>\n",
       "      <td>165.370</td>\n",
       "      <td>167.2100</td>\n",
       "      <td>11004333</td>\n",
       "      <td>NaN</td>\n",
       "      <td>NaN</td>\n",
       "    </tr>\n",
       "    <tr>\n",
       "      <th>2024-10-02</th>\n",
       "      <td>167.7600</td>\n",
       "      <td>168.880</td>\n",
       "      <td>166.250</td>\n",
       "      <td>167.3100</td>\n",
       "      <td>12744975</td>\n",
       "      <td>0.000598</td>\n",
       "      <td>NaN</td>\n",
       "    </tr>\n",
       "    <tr>\n",
       "      <th>2024-10-01</th>\n",
       "      <td>168.8600</td>\n",
       "      <td>170.440</td>\n",
       "      <td>165.900</td>\n",
       "      <td>168.4200</td>\n",
       "      <td>18629506</td>\n",
       "      <td>0.006612</td>\n",
       "      <td>NaN</td>\n",
       "    </tr>\n",
       "    <tr>\n",
       "      <th>2024-09-30</th>\n",
       "      <td>164.7800</td>\n",
       "      <td>167.360</td>\n",
       "      <td>164.640</td>\n",
       "      <td>167.1900</td>\n",
       "      <td>14083451</td>\n",
       "      <td>-0.007330</td>\n",
       "      <td>NaN</td>\n",
       "    </tr>\n",
       "    <tr>\n",
       "      <th>2024-09-27</th>\n",
       "      <td>163.9100</td>\n",
       "      <td>166.970</td>\n",
       "      <td>163.830</td>\n",
       "      <td>165.2900</td>\n",
       "      <td>13604261</td>\n",
       "      <td>-0.011429</td>\n",
       "      <td>NaN</td>\n",
       "    </tr>\n",
       "    <tr>\n",
       "      <th>...</th>\n",
       "      <td>...</td>\n",
       "      <td>...</td>\n",
       "      <td>...</td>\n",
       "      <td>...</td>\n",
       "      <td>...</td>\n",
       "      <td>...</td>\n",
       "      <td>...</td>\n",
       "    </tr>\n",
       "    <tr>\n",
       "      <th>2018-07-20</th>\n",
       "      <td>59.3480</td>\n",
       "      <td>59.843</td>\n",
       "      <td>59.211</td>\n",
       "      <td>59.2455</td>\n",
       "      <td>24968000</td>\n",
       "      <td>-0.017228</td>\n",
       "      <td>0.271138</td>\n",
       "    </tr>\n",
       "    <tr>\n",
       "      <th>2018-07-19</th>\n",
       "      <td>59.5500</td>\n",
       "      <td>60.000</td>\n",
       "      <td>59.166</td>\n",
       "      <td>59.3480</td>\n",
       "      <td>25533340</td>\n",
       "      <td>0.001729</td>\n",
       "      <td>0.271044</td>\n",
       "    </tr>\n",
       "    <tr>\n",
       "      <th>2018-07-18</th>\n",
       "      <td>59.8280</td>\n",
       "      <td>60.225</td>\n",
       "      <td>59.517</td>\n",
       "      <td>59.7940</td>\n",
       "      <td>27872120</td>\n",
       "      <td>0.007487</td>\n",
       "      <td>0.271046</td>\n",
       "    </tr>\n",
       "    <tr>\n",
       "      <th>2018-07-17</th>\n",
       "      <td>58.6110</td>\n",
       "      <td>60.152</td>\n",
       "      <td>58.530</td>\n",
       "      <td>59.9400</td>\n",
       "      <td>32207060</td>\n",
       "      <td>0.002439</td>\n",
       "      <td>0.270689</td>\n",
       "    </tr>\n",
       "    <tr>\n",
       "      <th>2018-07-16</th>\n",
       "      <td>59.4695</td>\n",
       "      <td>59.550</td>\n",
       "      <td>58.964</td>\n",
       "      <td>59.1930</td>\n",
       "      <td>21113240</td>\n",
       "      <td>-0.012541</td>\n",
       "      <td>0.270988</td>\n",
       "    </tr>\n",
       "  </tbody>\n",
       "</table>\n",
       "<p>1566 rows × 7 columns</p>\n",
       "</div>"
      ],
      "text/plain": [
       "                Open     High      Low     Close    Volume   Log_Rel  \\\n",
       "Date                                                                   \n",
       "2024-10-03  165.8200  167.910  165.370  167.2100  11004333       NaN   \n",
       "2024-10-02  167.7600  168.880  166.250  167.3100  12744975  0.000598   \n",
       "2024-10-01  168.8600  170.440  165.900  168.4200  18629506  0.006612   \n",
       "2024-09-30  164.7800  167.360  164.640  167.1900  14083451 -0.007330   \n",
       "2024-09-27  163.9100  166.970  163.830  165.2900  13604261 -0.011429   \n",
       "...              ...      ...      ...       ...       ...       ...   \n",
       "2018-07-20   59.3480   59.843   59.211   59.2455  24968000 -0.017228   \n",
       "2018-07-19   59.5500   60.000   59.166   59.3480  25533340  0.001729   \n",
       "2018-07-18   59.8280   60.225   59.517   59.7940  27872120  0.007487   \n",
       "2018-07-17   58.6110   60.152   58.530   59.9400  32207060  0.002439   \n",
       "2018-07-16   59.4695   59.550   58.964   59.1930  21113240 -0.012541   \n",
       "\n",
       "            Volatility  \n",
       "Date                    \n",
       "2024-10-03         NaN  \n",
       "2024-10-02         NaN  \n",
       "2024-10-01         NaN  \n",
       "2024-09-30         NaN  \n",
       "2024-09-27         NaN  \n",
       "...                ...  \n",
       "2018-07-20    0.271138  \n",
       "2018-07-19    0.271044  \n",
       "2018-07-18    0.271046  \n",
       "2018-07-17    0.270689  \n",
       "2018-07-16    0.270988  \n",
       "\n",
       "[1566 rows x 7 columns]"
      ]
     },
     "execution_count": 8,
     "metadata": {},
     "output_type": "execute_result"
    }
   ],
   "source": [
    "goog"
   ]
  },
  {
   "cell_type": "code",
   "execution_count": 9,
   "metadata": {},
   "outputs": [
    {
     "data": {
      "text/plain": [
       "array([<Axes: xlabel='Date'>, <Axes: xlabel='Date'>], dtype=object)"
      ]
     },
     "execution_count": 9,
     "metadata": {},
     "output_type": "execute_result"
    },
    {
     "data": {
      "image/png": "[encoded data removed]",
      "text/plain": [
       "<Figure size 800x600 with 2 Axes>"
      ]
     },
     "metadata": {},
     "output_type": "display_data"
    }
   ],
   "source": [
    "goog[['Close', 'Volatility']].plot(subplots=True, color='blue', figsize=(8, 6))"
   ]
  },
  {
   "cell_type": "markdown",
   "metadata": {},
   "source": [
    "## Chapter 3 -- Introductory Examples\n",
    "3 main concepts explored:\n",
    "\n",
    "1. Implied Volatilities\n",
    "2. Monte Carlo Simulations\n",
    "3. Technical Analysis"
   ]
  },
  {
   "cell_type": "markdown",
   "metadata": {},
   "source": [
    "### Implied Volatilities\n",
    "\n",
    "Take the Black-Sholes Option Pricing model for example:\n",
    "\n",
    "$$\n",
    "C(S_t, K, t, T, r, \\sigma) = S_T\\cdot\\mathbf{N}(d_1)-e^{-r(T-t)}\\cdot K\\cdot \\mathbf{N}(d_2)\n",
    "$$\n",
    "\n",
    "Where $\\mathbf{N} \\sim \\mathcal{N}(0,1)$ and $\\mathbf{N}(d) = \\mathbb{P}(x \\leq d)$, and the other terms are equal to some \"scary\" looking terms.\n",
    "\n",
    "Now suppose I've given you a quote $C^*$ for the european call option. Then the implied volatility is $\\sigma^{\\textrm{imp}}$ s.t. $C(S_t, K, t, T, r, \\sigma^{\\textrm{imp}}) = C^*$\n",
    "\n",
    "There is no closed form solution so we have to use something like Newton's method to do root finding.(pretty basic stuff from Applied Numerical Methods 1/2)\n",
    "\n",
    "The derivative w.r.t volatility is called the ***vega*** of a european option in BSM:\n",
    "\n",
    "$$\n",
    "\\frac{\\partial C}{\\partial \\sigma} = S_t\\mathbf{N}^\\prime(d_1)\\sqrt{T-t}\n",
    "$$\n",
    "\n",
    "Now this is as simple as defining the equation and say using jax to autograd it through, that is if we're not worried about the amount of time taken. Good thing is we have plenty of years of financial research behind us!"
   ]
  },
  {
   "cell_type": "code",
   "execution_count": 15,
   "metadata": {},
   "outputs": [],
   "source": [
    "def bsm_call_val(S0:float, K:float, T:float, r:float, sigma:float):\n",
    "    d1 = (jnp.log(S0 / K) + (r + 0.5*sigma**2)*T) / (sigma * jnp.sqrt(T))\n",
    "    d2 = (jnp.log(S0 / K) + (r - 0.5*sigma**2)*T) / (sigma * jnp.sqrt(T))\n",
    "    value = (S0 - jsp.stats.norm.cdf(d1, 0.0, 1.0)) - K*jnp.exp(-r*T)*jsp.stats.norm.cdf(d2, 0.0, 1.0)\n",
    "    return value\n",
    "\n",
    "bsm_vega_autograd = grad(bsm_call_val, argnums=(4))\n",
    "\n",
    "def bsm_vega_exact(S0:float, K:float, T:float, r:float, sigma:float):\n",
    "    d1 = ((jnp.log(S0 / K) + (r + 0.5*sigma**2))*T) / (sigma * jnp.sqrt(T))\n",
    "    vega = S0 * jsp.stats.norm.cdf(d1, 0.0, 1.0)*jnp.sqrt(T)\n",
    "    return vega\n",
    "\n",
    "def bsm_call_imp_vol(S0:float, K:float, T:float, r:float, C0:float, sigma_est:float, it=100):\n",
    "    for i in range(it):\n",
    "        sigma_est -= (bsm_call_val(S0, K, T, r, sigma_est) - C0)/(bsm_vega_exact(S0, K, T, r, sigma_est))\n",
    "    return sigma_est"
   ]
  },
  {
   "cell_type": "markdown",
   "metadata": {},
   "source": [
    "The book goes on to use data that I'm unable to find."
   ]
  }
 ],
 "metadata": {
  "kernelspec": {
   "display_name": "base",
   "language": "python",
   "name": "python3"
  },
  "language_info": {
   "codemirror_mode": {
    "name": "ipython",
    "version": 3
   },
   "file_extension": ".py",
   "mimetype": "text/x-python",
   "name": "python",
   "nbconvert_exporter": "python",
   "pygments_lexer": "ipython3",
   "version": "3.12.2"
  }
 },
 "nbformat": 4,
 "nbformat_minor": 2
}
